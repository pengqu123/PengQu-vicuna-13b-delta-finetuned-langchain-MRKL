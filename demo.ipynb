{
 "cells": [
  {
   "cell_type": "code",
   "execution_count": 1,
   "id": "8fe7b1d7",
   "metadata": {},
   "outputs": [
    {
     "name": "stderr",
     "output_type": "stream",
     "text": [
      "/home/pengqu/langchain/langchain/chains/llm_math/base.py:50: UserWarning: Directly instantiating an LLMMathChain with an llm is deprecated. Please instantiate with llm_chain argument or using the from_llm class method.\n",
      "  warnings.warn(\n"
     ]
    },
    {
     "name": "stdout",
     "output_type": "stream",
     "text": [
      "\n",
      "\n",
      "\u001b[1m> Entering new AgentExecutor chain...\u001b[0m\n",
      "\u001b[32;1m\u001b[1;3m I need to find the age of the President and then multiply it by 0.5\n",
      "Action: Search\n",
      "Action Input: Who is the President of the United States\u001b[0m\n",
      "Observation: \u001b[36;1m\u001b[1;3mJoe Biden\u001b[0m\n",
      "Thought:\u001b[32;1m\u001b[1;3m I need to find Joe Biden's age\n",
      "Action: Search\n",
      "Action Input: Joe Biden's age\u001b[0m\n",
      "Observation: \u001b[36;1m\u001b[1;3m80 years\u001b[0m\n",
      "Thought:\u001b[32;1m\u001b[1;3m I need to multiply 80 by 0.5\n",
      "Action: Calculator\n",
      "Action Input: 80 * 0.5\u001b[0m\n",
      "\n",
      "\u001b[1m> Entering new LLMMathChain chain...\u001b[0m\n",
      "80 * 0.5\u001b[32;1m\u001b[1;3m```text\n",
      "80 * 0.5\n",
      "```\n",
      "...numexpr.evaluate(\"80 * 0.5\")...\n",
      "\u001b[0m\n",
      "Answer: \u001b[33;1m\u001b[1;3m40.0\u001b[0m\n",
      "\u001b[1m> Finished chain.\u001b[0m\n",
      "\n",
      "Observation: \u001b[33;1m\u001b[1;3mAnswer: 40.0\u001b[0m\n",
      "Thought:\u001b[32;1m\u001b[1;3m I now know the final answer\n",
      "Final Answer: 40.0\u001b[0m\n",
      "\n",
      "\u001b[1m> Finished chain.\u001b[0m\n"
     ]
    },
    {
     "data": {
      "text/plain": [
       "'40.0'"
      ]
     },
     "execution_count": 1,
     "metadata": {},
     "output_type": "execute_result"
    }
   ],
   "source": [
    "import os\n",
    "# please use your key\n",
    "os.environ[\"SERPAPI_API_KEY\"] = \"\"\n",
    "\n",
    "from langchain.agents import initialize_agent, Tool\n",
    "from langchain.llms import AI21\n",
    "from langchain.llms.base import LLM\n",
    "from langchain import LLMMathChain, SerpAPIWrapper\n",
    "\n",
    "\n",
    "from langchain.llms import OpenAIChat\n",
    "from langchain.agents import tool\n",
    "from langchain.chains.conversation.memory import ConversationBufferMemory\n",
    "from typing import Optional, List, Mapping, Any\n",
    "import requests\n",
    "from langchain.llms.utils import enforce_stop_tokens\n",
    "\n",
    "class VicunaLLM(LLM):\n",
    "    @property\n",
    "    def _llm_type(self) -> str:\n",
    "        return \"custom\"\n",
    "\n",
    "    def _call(self, prompt: str, stop: Optional[List[str]] = None) -> str:\n",
    "        data = {\"query\": prompt}\n",
    "        response = requests.post(\n",
    "            \"http://8.130.118.207:8080/post\", # this is the IP of my gpu machine\n",
    "            json= data\n",
    "        )\n",
    "        response.raise_for_status()\n",
    "        output = response.text.strip()[len(prompt):]\n",
    "        if stop:\n",
    "            output = enforce_stop_tokens(output, stop)\n",
    "        return output\n",
    "\n",
    "    @property\n",
    "    def _identifying_params(self) -> Mapping[str, Any]:\n",
    "        \"\"\"Get the identifying parameters.\"\"\"\n",
    "        return {\n",
    "\n",
    "        }\n",
    "llm = VicunaLLM()\n",
    "search = SerpAPIWrapper()\n",
    "llm_math_chain = LLMMathChain(llm=llm, verbose=True)\n",
    "tools = [\n",
    "    Tool(\n",
    "        name = \"Search\",\n",
    "        func=search.run,\n",
    "        description=\"useful for when you need to answer questions about current events\"\n",
    "    ),\n",
    "    Tool(\n",
    "        name=\"Calculator\",\n",
    "        func=llm_math_chain.run,\n",
    "        description=\"useful for when you need to answer questions about math\"\n",
    "    )\n",
    "]\n",
    "llm = VicunaLLM()\n",
    "memory = ConversationBufferMemory(memory_key=\"chat_history\")\n",
    "agent = initialize_agent(tools, llm, agent= \"zero-shot-react-description\", verbose=True, memory=memory,max_iterations=4,early_stopping_method=\"generate\")\n",
    "agent.run(\"The current age of the President of the United States multiplied by 0.5.\")\n"
   ]
  },
  {
   "cell_type": "code",
   "execution_count": null,
   "id": "4ca8e1cf",
   "metadata": {},
   "outputs": [],
   "source": []
  }
 ],
 "metadata": {
  "kernelspec": {
   "display_name": "Python 3 (ipykernel)",
   "language": "python",
   "name": "python3"
  },
  "language_info": {
   "codemirror_mode": {
    "name": "ipython",
    "version": 3
   },
   "file_extension": ".py",
   "mimetype": "text/x-python",
   "name": "python",
   "nbconvert_exporter": "python",
   "pygments_lexer": "ipython3",
   "version": "3.8.10"
  }
 },
 "nbformat": 4,
 "nbformat_minor": 5
}
